{
 "cells": [
  {
   "cell_type": "code",
   "execution_count": null,
   "metadata": {},
   "outputs": [],
   "source": [
    "import numpy as np\n",
    "import pandas as pd\n",
    "import math\n",
    "data = pd.read_csv(r\"data.csv\")\n",
    "print(data)\n",
    "norm_data = data.apply(lambda x: x / x.max(), axis=0)\n",
    "training_set = norm_data.iloc[:1301]\n",
    "testing_set = norm_data.iloc[1301:]\n",
    "training_set.insert(0, 'X0', [1] * 1301)\n",
    "testing_set.insert(0, 'X0', [1] * 71)\n",
    "print(training_set)\n",
    "print(testing_set)\n",
    "thetas = [0, 0, 0, 0, 0]\n",
    "def hypothesis_function(thetas, i):\n",
    "    res = 0\n",
    "    for j in range(5):\n",
    "        res += 1 / (1 + math.e ** (-(thetas[j] * training_set.iloc[i, j])))\n",
    "    return res\n",
    "def derivative_calculation(j, thetas):\n",
    "    res = 0\n",
    "    for i in range(1301):\n",
    "        res += (hypothesis_function(thetas, i) - training_set.iloc[i, 3]) * training_set.iloc[i, j]\n",
    "    return res\n",
    "alpha = 0.01\n",
    "def logreg():\n",
    "    global thetas\n",
    "    for _ in range(100):\n",
    "        temp_thetas = thetas[:]\n",
    "        for j in range(5):\n",
    "            temp_thetas[j] = temp_thetas[j] - alpha * derivative_calculation(j, thetas)\n",
    "        thetas = temp_thetas[:]\n",
    "    return thetas\n",
    "print(logreg())"
   ]
  }
 ],
 "metadata": {
  "kernelspec": {
   "display_name": "Python 3",
   "language": "python",
   "name": "python3"
  },
  "language_info": {
   "codemirror_mode": {
    "name": "ipython",
    "version": 3
   },
   "file_extension": ".py",
   "mimetype": "text/x-python",
   "name": "python",
   "nbconvert_exporter": "python",
   "pygments_lexer": "ipython3",
   "version": "3.8.5"
  }
 },
 "nbformat": 4,
 "nbformat_minor": 4
}
